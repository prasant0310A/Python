{
 "cells": [
  {
   "cell_type": "code",
   "execution_count": 1,
   "id": "12ab8fc6-c0c4-49ea-ba9a-afe879e4a110",
   "metadata": {},
   "outputs": [],
   "source": [
    "from MultiFunctionLibary import multiFunction"
   ]
  },
  {
   "cell_type": "code",
   "execution_count": 2,
   "id": "d535109f-ac2d-4b7d-9e82-ec5dfd5182dc",
   "metadata": {},
   "outputs": [
    {
     "name": "stdout",
     "output_type": "stream",
     "text": [
      "Sub-fields in AI are:\n",
      "Machine learning\n",
      "Neural Network\n",
      "Vision\n",
      "Robotics\n",
      "Speech Processing\n",
      "Natural Language Processing\n"
     ]
    }
   ],
   "source": [
    "multiFunction.subField()"
   ]
  },
  {
   "cell_type": "code",
   "execution_count": 3,
   "id": "06ada732-659c-470f-9152-0c4ae5f378a4",
   "metadata": {},
   "outputs": [
    {
     "name": "stdin",
     "output_type": "stream",
     "text": [
      "Enter a number 52452\n"
     ]
    },
    {
     "name": "stdout",
     "output_type": "stream",
     "text": [
      "Enter a number: 52452\n",
      "52452 is Even number\n"
     ]
    }
   ],
   "source": [
    "multiFunction.oddEven()"
   ]
  },
  {
   "cell_type": "code",
   "execution_count": 4,
   "id": "320c56ab-c8da-4a56-b6d2-6cc69324302c",
   "metadata": {},
   "outputs": [
    {
     "name": "stdin",
     "output_type": "stream",
     "text": [
      "Enter your Gender: male\n",
      "Enter your age: 20\n"
     ]
    },
    {
     "name": "stdout",
     "output_type": "stream",
     "text": [
      "Your Gender: male\n",
      "Your age: 20\n",
      "You are not eligible for marriage\n"
     ]
    }
   ],
   "source": [
    "multiFunction.Elegible()"
   ]
  },
  {
   "cell_type": "code",
   "execution_count": 5,
   "id": "7dca894f-e798-48e0-a415-39469e56379c",
   "metadata": {},
   "outputs": [
    {
     "name": "stdin",
     "output_type": "stream",
     "text": [
      "Enter your Subject 1 marks: 98\n",
      "Enter your Subject 2 marks: 87\n",
      "Enter your Subject 3 marks: 95\n",
      "Enter your Subject 4 marks: 95\n",
      "Enter your Subject 5 marks: 93\n"
     ]
    },
    {
     "name": "stdout",
     "output_type": "stream",
     "text": [
      "Subject1= 98\n",
      "Subject2= 87\n",
      "Subject3= 95\n",
      "Subject4= 95\n",
      "Subject5= 93\n",
      "total : 468\n",
      "Percentage : 93.60000000000001\n"
     ]
    }
   ],
   "source": [
    "multiFunction.percentage()"
   ]
  },
  {
   "cell_type": "code",
   "execution_count": 6,
   "id": "86ac385e-f8e4-4edf-b83f-5595e6852032",
   "metadata": {},
   "outputs": [
    {
     "name": "stdin",
     "output_type": "stream",
     "text": [
      "Enter the height of the triangle: 32\n",
      "Enter the breadth of the triangle: 34\n"
     ]
    },
    {
     "name": "stdout",
     "output_type": "stream",
     "text": [
      "Height: 32\n",
      "Breadth: 34\n",
      "Area formula: (Height * Breadth) / 2\n",
      "Area of Triangle: 544.0\n"
     ]
    }
   ],
   "source": [
    "height = int(input(\"Enter the height of the triangle:\"))\n",
    "breadth = int(input(\"Enter the breadth of the triangle:\"))\n",
    "area = multiFunction.triangle_area(height,breadth)\n",
    "print(\"Height:\",height)\n",
    "print(\"Breadth:\",breadth)\n",
    "print(\"Area formula: (Height * Breadth) / 2\")\n",
    "print(\"Area of Triangle:\",area)"
   ]
  },
  {
   "cell_type": "code",
   "execution_count": 7,
   "id": "b515be7a-4c23-4a32-bbc0-80adeee0fe30",
   "metadata": {},
   "outputs": [
    {
     "name": "stdin",
     "output_type": "stream",
     "text": [
      "Enter the height 1: 2\n",
      "Enter the height 2: 4\n",
      "Enter the height 3: 4\n"
     ]
    },
    {
     "name": "stdout",
     "output_type": "stream",
     "text": [
      "Height1: 2\n",
      "Height2: 4\n",
      "Breadth: 4\n",
      "Perimeter formula: Height1 + Height2 + Breadth\n",
      "Perimeter of Triangle: 10\n"
     ]
    }
   ],
   "source": [
    "s1 = int(input(\"Enter the height 1:\"))\n",
    "s2 = int(input(\"Enter the height 2:\"))\n",
    "s3 = int(input(\"Enter the height 3:\"))\n",
    "perimeter = multiFunction.triangle_perimeter(s1,s2,s3)\n",
    "print(\"Height1:\",s1)\n",
    "print(\"Height2:\",s2)\n",
    "print(\"Breadth:\",s3)\n",
    "print(\"Perimeter formula: Height1 + Height2 + Breadth\")\n",
    "print(\"Perimeter of Triangle:\",perimeter)"
   ]
  },
  {
   "cell_type": "code",
   "execution_count": null,
   "id": "b232cb3d-04e5-468f-97ed-7e3fb3010003",
   "metadata": {},
   "outputs": [],
   "source": []
  }
 ],
 "metadata": {
  "kernelspec": {
   "display_name": "Python 3 (ipykernel)",
   "language": "python",
   "name": "python3"
  },
  "language_info": {
   "codemirror_mode": {
    "name": "ipython",
    "version": 3
   },
   "file_extension": ".py",
   "mimetype": "text/x-python",
   "name": "python",
   "nbconvert_exporter": "python",
   "pygments_lexer": "ipython3",
   "version": "3.13.5"
  }
 },
 "nbformat": 4,
 "nbformat_minor": 5
}
