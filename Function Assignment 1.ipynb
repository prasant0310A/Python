{
 "cells": [
  {
   "cell_type": "code",
   "execution_count": 12,
   "id": "c4b1a772-74a1-4ca1-b039-780b847e87de",
   "metadata": {},
   "outputs": [],
   "source": [
    "list1 = ['Machine learning', 'Neural Network', 'Vision', 'Robotics', 'Speech Processing', 'Natural Language Processing'] "
   ]
  },
  {
   "cell_type": "code",
   "execution_count": 13,
   "id": "93228632-47b0-41c5-95f6-4082d3a45c5c",
   "metadata": {},
   "outputs": [],
   "source": [
    "class SubfieldsInAI:\n",
    "    def subField():\n",
    "        print(\"Sub-fields in AI are:\")\n",
    "        for name in list1:\n",
    "            print(name)\n",
    "        # return "
   ]
  },
  {
   "cell_type": "code",
   "execution_count": 14,
   "id": "7f306ecd-1fc1-47c8-839e-5b1738519cea",
   "metadata": {},
   "outputs": [
    {
     "name": "stdout",
     "output_type": "stream",
     "text": [
      "Sub-fields in AI are:\n",
      "Machine learning\n",
      "Neural Network\n",
      "Vision\n",
      "Robotics\n",
      "Speech Processing\n",
      "Natural Language Processing\n"
     ]
    }
   ],
   "source": [
    "SubfieldsInAI.subField()"
   ]
  },
  {
   "cell_type": "code",
   "execution_count": 15,
   "id": "e8f4baa7-4faf-444c-80c9-07b8b586b572",
   "metadata": {},
   "outputs": [],
   "source": [
    "class OddEven:\n",
    "    def oddEven():\n",
    "        num1 = int(input(\"Enter a number\"))\n",
    "        print(\"Enter a number:\", num1)\n",
    "        if (num1 % 2 == 0):\n",
    "            print(f\"{num1} is Even number\")\n",
    "        else:\n",
    "            print(f\"{num1} is Odd number\")\n",
    "\n",
    "        return"
   ]
  },
  {
   "cell_type": "code",
   "execution_count": 16,
   "id": "e7763fe2-988f-4169-82e7-14a006ea3ddb",
   "metadata": {},
   "outputs": [
    {
     "name": "stdin",
     "output_type": "stream",
     "text": [
      "Enter a number 52452\n"
     ]
    },
    {
     "name": "stdout",
     "output_type": "stream",
     "text": [
      "Enter a number: 52452\n",
      "52452 is Even number\n"
     ]
    }
   ],
   "source": [
    "OddEven.oddEven()"
   ]
  },
  {
   "cell_type": "code",
   "execution_count": 20,
   "id": "fb544d66-44c4-43d2-ad0d-dfdc307ad145",
   "metadata": {},
   "outputs": [],
   "source": [
    "class ElegiblityForMarriage:\n",
    "    def Elegible():\n",
    "        gender = input(\"Enter your Gender:\")\n",
    "        age    = int(input(\"Enter your age:\"))\n",
    "        print(\"Your Gender:\",gender)\n",
    "        print(\"Your age:\",age)\n",
    "        if (gender == \"Male\" or \"male\" and age < 21):\n",
    "            print(\"You are not eligible for marriage\")\n",
    "        elif (gender == \"Female\" or \"female\" and age < 18):\n",
    "            print(\"You are not eligible for marriage\")\n",
    "        else:\n",
    "            print(\"You are eligible for marriage\")\n",
    "       # return "
   ]
  },
  {
   "cell_type": "code",
   "execution_count": 21,
   "id": "704dc0fd-95b9-422b-bd12-001e19fc7e62",
   "metadata": {},
   "outputs": [
    {
     "name": "stdin",
     "output_type": "stream",
     "text": [
      "Enter your Gender: Male\n",
      "Enter your age: 20\n"
     ]
    },
    {
     "name": "stdout",
     "output_type": "stream",
     "text": [
      "Your Gender: Male\n",
      "Your age: 20\n",
      "You are not eligible for marriage\n"
     ]
    }
   ],
   "source": [
    "ElegiblityForMarriage.Elegible()"
   ]
  },
  {
   "cell_type": "code",
   "execution_count": 22,
   "id": "493de87e-8aa0-4ef4-aa4b-1f31898a5f73",
   "metadata": {},
   "outputs": [],
   "source": [
    "class findPercentage:\n",
    "    def percentage():\n",
    "        sub1 = int(input(\"Enter your Subject 1 marks:\"))\n",
    "        sub2 = int(input(\"Enter your Subject 2 marks:\"))\n",
    "        sub3 = int(input(\"Enter your Subject 3 marks:\"))\n",
    "        sub4 = int(input(\"Enter your Subject 4 marks:\"))\n",
    "        sub5 = int(input(\"Enter your Subject 5 marks:\"))\n",
    "        print(\"Subject1=\",sub1)\n",
    "        print(\"Subject2=\",sub2)\n",
    "        print(\"Subject3=\",sub3)\n",
    "        print(\"Subject4=\",sub4)\n",
    "        print(\"Subject5=\",sub5)\n",
    "        total = sub1 + sub2 + sub3 + sub4 + sub5\n",
    "        percentage = (total/500) * 100\n",
    "        print(\"total :\",total)\n",
    "        print(\"Percentage :\",percentage)\n",
    "    "
   ]
  },
  {
   "cell_type": "code",
   "execution_count": 23,
   "id": "aba84689-029f-480f-9d0a-db87e6186e37",
   "metadata": {},
   "outputs": [
    {
     "name": "stdin",
     "output_type": "stream",
     "text": [
      "Enter your Subject 1 marks: 98\n",
      "Enter your Subject 2 marks: 87\n",
      "Enter your Subject 3 marks: 95\n",
      "Enter your Subject 4 marks: 95\n",
      "Enter your Subject 5 marks: 93\n"
     ]
    },
    {
     "name": "stdout",
     "output_type": "stream",
     "text": [
      "Subject1= 98\n",
      "Subject2= 87\n",
      "Subject3= 95\n",
      "Subject4= 95\n",
      "Subject5= 93\n",
      "total : 468\n",
      "Percentage : 93.60000000000001\n"
     ]
    }
   ],
   "source": [
    "findPercentage.percentage()"
   ]
  },
  {
   "cell_type": "code",
   "execution_count": 24,
   "id": "84789b43-7fa8-4a75-ac69-20df52ade1c5",
   "metadata": {},
   "outputs": [],
   "source": [
    "class triangle:\n",
    "    def triangle_perimeter(side1,side2,side3):\n",
    "        return side1 + side2 + side3\n",
    "\n",
    "    def triangle_area(base, height):\n",
    "        return (0.5 * base * height)\n",
    "       "
   ]
  },
  {
   "cell_type": "code",
   "execution_count": 27,
   "id": "cb7c0c58-274b-4516-b9ef-ddd37cd66148",
   "metadata": {},
   "outputs": [
    {
     "name": "stdin",
     "output_type": "stream",
     "text": [
      "Enter the height of the triangle: 32\n",
      "Enter the breadth of the triangle: 34\n"
     ]
    },
    {
     "name": "stdout",
     "output_type": "stream",
     "text": [
      "Height: 32\n",
      "Breadth: 34\n",
      "Area formula: (Height * Breadth) / 2\n",
      "Area of Triangle: 544.0\n"
     ]
    }
   ],
   "source": [
    "height = int(input(\"Enter the height of the triangle:\"))\n",
    "breadth = int(input(\"Enter the breadth of the triangle:\"))\n",
    "area = triangle.triangle_area(height,breadth)\n",
    "print(\"Height:\",height)\n",
    "print(\"Breadth:\",breadth)\n",
    "print(\"Area formula: (Height * Breadth) / 2\")\n",
    "print(\"Area of Triangle:\",area)"
   ]
  },
  {
   "cell_type": "code",
   "execution_count": 28,
   "id": "dc89dcd7-e866-4a53-972f-057f989c5149",
   "metadata": {},
   "outputs": [
    {
     "name": "stdin",
     "output_type": "stream",
     "text": [
      "Enter the height 1: 2\n",
      "Enter the height 2: 4\n",
      "Enter the height 3: 4\n"
     ]
    },
    {
     "name": "stdout",
     "output_type": "stream",
     "text": [
      "Height1: 2\n",
      "Height2: 4\n",
      "Breadth: 4\n",
      "Perimeter formula: Height1 + Height2 + Breadth\n",
      "Perimeter of Triangle: 10\n"
     ]
    }
   ],
   "source": [
    "s1 = int(input(\"Enter the height 1:\"))\n",
    "s2 = int(input(\"Enter the height 2:\"))\n",
    "s3 = int(input(\"Enter the height 3:\"))\n",
    "perimeter = triangle.triangle_perimeter(s1,s2,s3)\n",
    "print(\"Height1:\",s1)\n",
    "print(\"Height2:\",s2)\n",
    "print(\"Breadth:\",s3)\n",
    "print(\"Perimeter formula: Height1 + Height2 + Breadth\")\n",
    "print(\"Perimeter of Triangle:\",perimeter)"
   ]
  },
  {
   "cell_type": "code",
   "execution_count": null,
   "id": "d96fabd1-a652-4361-ae90-4838b72cdc6e",
   "metadata": {},
   "outputs": [],
   "source": []
  }
 ],
 "metadata": {
  "kernelspec": {
   "display_name": "Python 3 (ipykernel)",
   "language": "python",
   "name": "python3"
  },
  "language_info": {
   "codemirror_mode": {
    "name": "ipython",
    "version": 3
   },
   "file_extension": ".py",
   "mimetype": "text/x-python",
   "name": "python",
   "nbconvert_exporter": "python",
   "pygments_lexer": "ipython3",
   "version": "3.13.5"
  }
 },
 "nbformat": 4,
 "nbformat_minor": 5
}
