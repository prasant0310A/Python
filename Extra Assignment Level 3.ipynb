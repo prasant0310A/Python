{
 "cells": [
  {
   "cell_type": "code",
   "execution_count": 5,
   "id": "05ac564c-7ad4-40a0-8e7f-f87fe7d0bc00",
   "metadata": {},
   "outputs": [
    {
     "name": "stdin",
     "output_type": "stream",
     "text": [
      "Enter the number 10\n"
     ]
    },
    {
     "name": "stdout",
     "output_type": "stream",
     "text": [
      "value: 10\n",
      "Correct\n"
     ]
    }
   ],
   "source": [
    "val = int(input(\"Enter the number\"))\n",
    "print(\"value:\",val)\n",
    "if(val == 10):\n",
    "    print(\"Correct\")"
   ]
  },
  {
   "cell_type": "code",
   "execution_count": 8,
   "id": "f699a78e-7f6a-445c-8e74-ae0b64c3982d",
   "metadata": {},
   "outputs": [
    {
     "name": "stdin",
     "output_type": "stream",
     "text": [
      "Enter your password HOPE@123\n"
     ]
    },
    {
     "name": "stdout",
     "output_type": "stream",
     "text": [
      "Enter the password: HOPE@123\n",
      "Your password is correct\n"
     ]
    }
   ],
   "source": [
    "password = input(\"Enter your password\")\n",
    "if (password == \"HOPE@123\"):\n",
    "    print(\"Enter the password:\", password)\n",
    "    print(\"Your password is correct\")\n",
    "else:\n",
    "    print(\"Wrong password\")"
   ]
  },
  {
   "cell_type": "code",
   "execution_count": 14,
   "id": "47785a81-7043-4ce9-bcb3-8e66c9ae169f",
   "metadata": {},
   "outputs": [
    {
     "name": "stdin",
     "output_type": "stream",
     "text": [
      "Enter your age: 20\n"
     ]
    },
    {
     "name": "stdout",
     "output_type": "stream",
     "text": [
      "age: 20\n",
      "adult\n"
     ]
    }
   ],
   "source": [
    "age = int(input(\"Enter your age:\"))\n",
    "print(\"age:\",age)\n",
    "if (age < 18):\n",
    "    print(\"children\")\n",
    "elif (age < 30):\n",
    "    print(\"adult\")\n",
    "elif (age < 50):\n",
    "    print(\"citizen\")\n",
    "else:\n",
    "    print(\"senior citizen\")"
   ]
  },
  {
   "cell_type": "code",
   "execution_count": 18,
   "id": "f0065ef6-731f-4045-8db9-148d22faba06",
   "metadata": {},
   "outputs": [
    {
     "name": "stdin",
     "output_type": "stream",
     "text": [
      "Enter the number 1\n"
     ]
    },
    {
     "name": "stdout",
     "output_type": "stream",
     "text": [
      "Enter any number: 1\n",
      "1 is positive\n"
     ]
    }
   ],
   "source": [
    "num1 = int(input(\"Enter the number\"))\n",
    "print(\"Enter any number:\",num1)\n",
    "if (num1 > 0 ):\n",
    "    print(f\"{num1} is positive\")\n",
    "elif (num1 < 0 ):\n",
    "    print(f\"{num1} is negative\")\n",
    "else:\n",
    "    print(f\"{num1} is zero\")"
   ]
  },
  {
   "cell_type": "code",
   "execution_count": 27,
   "id": "9808832f-b7f7-4c6a-aa62-d174c4d0fe78",
   "metadata": {},
   "outputs": [
    {
     "name": "stdin",
     "output_type": "stream",
     "text": [
      "Enter a number to check: 22\n"
     ]
    },
    {
     "name": "stdout",
     "output_type": "stream",
     "text": [
      "Enter a number to check: 22\n",
      "22 is not divisible by 5\n"
     ]
    }
   ],
   "source": [
    "div5 = int(input(\"Enter a number to check:\"))\n",
    "print(\"Enter a number to check:\",div5)\n",
    "if (div5%5 == 0 ):\n",
    "    print(f\"{div5} is divisible by 5\")\n",
    "else:\n",
    "    print(f\"{div5} is not divisible by 5\")"
   ]
  },
  {
   "cell_type": "code",
   "execution_count": null,
   "id": "5ce98e43-ccb9-4ef2-93a1-67e6af7fd87f",
   "metadata": {},
   "outputs": [],
   "source": []
  }
 ],
 "metadata": {
  "kernelspec": {
   "display_name": "Python 3 (ipykernel)",
   "language": "python",
   "name": "python3"
  },
  "language_info": {
   "codemirror_mode": {
    "name": "ipython",
    "version": 3
   },
   "file_extension": ".py",
   "mimetype": "text/x-python",
   "name": "python",
   "nbconvert_exporter": "python",
   "pygments_lexer": "ipython3",
   "version": "3.13.5"
  }
 },
 "nbformat": 4,
 "nbformat_minor": 5
}
