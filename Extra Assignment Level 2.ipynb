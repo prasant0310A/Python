{
 "cells": [
  {
   "cell_type": "code",
   "execution_count": 1,
   "id": "e391c7a2-e904-427d-8eed-3d3dacc83903",
   "metadata": {},
   "outputs": [
    {
     "name": "stdout",
     "output_type": "stream",
     "text": [
      "0\n",
      "1\n",
      "2\n",
      "3\n",
      "4\n",
      "5\n",
      "6\n",
      "7\n",
      "8\n",
      "9\n",
      "10\n",
      "11\n",
      "12\n",
      "13\n",
      "14\n",
      "15\n",
      "16\n",
      "17\n",
      "18\n",
      "19\n"
     ]
    }
   ],
   "source": [
    "for temp in range(0,20):\n",
    "    print(temp)"
   ]
  },
  {
   "cell_type": "code",
   "execution_count": 2,
   "id": "1b4a9b56-b64a-4066-818e-8addc35a40fc",
   "metadata": {},
   "outputs": [
    {
     "name": "stdout",
     "output_type": "stream",
     "text": [
      "10 11 12 13 14 15 16 17 18 19\n"
     ]
    }
   ],
   "source": [
    "print(*range(10,20))"
   ]
  },
  {
   "cell_type": "code",
   "execution_count": 3,
   "id": "fcc3f9a6-ae87-4118-b116-ee9f8f8f0521",
   "metadata": {},
   "outputs": [
    {
     "name": "stdout",
     "output_type": "stream",
     "text": [
      "[10, 20, 14, 55, 43, 87, 76]\n",
      "Number of item in the List2: 7\n"
     ]
    }
   ],
   "source": [
    "list = [10,20,14,55,43,87,76]\n",
    "print(list)\n",
    "print(\"Number of item in the List2:\",len(list))"
   ]
  },
  {
   "cell_type": "code",
   "execution_count": 5,
   "id": "7085b72c-4abc-4b43-bbaa-39f7303e5b59",
   "metadata": {},
   "outputs": [
    {
     "name": "stdin",
     "output_type": "stream",
     "text": [
      "Enter the word Artificial Intelligence\n"
     ]
    },
    {
     "name": "stdout",
     "output_type": "stream",
     "text": [
      "Artificial Intelligence\n",
      "A\n",
      "r\n",
      "t\n",
      "i\n",
      "f\n",
      "i\n",
      "c\n",
      "i\n",
      "a\n",
      "l\n",
      " \n",
      "I\n",
      "n\n",
      "t\n",
      "e\n",
      "l\n",
      "l\n",
      "i\n",
      "g\n",
      "e\n",
      "n\n",
      "c\n",
      "e\n"
     ]
    }
   ],
   "source": [
    "stringWord = input(\"Enter the word\")\n",
    "print(stringWord)\n",
    "\n",
    "for temp2 in stringWord:\n",
    "    print(temp2)"
   ]
  },
  {
   "cell_type": "code",
   "execution_count": 8,
   "id": "d0bcc393-f620-4df9-8f37-1cf546198e46",
   "metadata": {},
   "outputs": [
    {
     "name": "stdin",
     "output_type": "stream",
     "text": [
      "Enter you name Prasanth\n",
      "Enter your age 15\n",
      "Enter your profession Teacher\n"
     ]
    },
    {
     "name": "stdout",
     "output_type": "stream",
     "text": [
      "Prasanth\n",
      "15\n",
      "Teacher\n"
     ]
    }
   ],
   "source": [
    "name = input(\"Enter you name\")\n",
    "age  = input(\"Enter your age\")\n",
    "profession = input(\"Enter your profession\")\n",
    "print(name)\n",
    "print(age)\n",
    "print(profession)"
   ]
  },
  {
   "cell_type": "code",
   "execution_count": 11,
   "id": "901cc506-0b31-4b31-b4fb-4c845d06b5bc",
   "metadata": {},
   "outputs": [
    {
     "name": "stdout",
     "output_type": "stream",
     "text": [
      "(1, 'welcome', 2, 'Hope')\n"
     ]
    }
   ],
   "source": [
    "tup = (1, 'welcome', 2, 'Hope')\n",
    "print(tup)"
   ]
  },
  {
   "cell_type": "code",
   "execution_count": 13,
   "id": "5b9e6cc6-25d0-412b-9406-9cd1e319ac22",
   "metadata": {},
   "outputs": [
    {
     "name": "stdout",
     "output_type": "stream",
     "text": [
      "(0, 1, 2, 3, 'python', 'HOPE')\n",
      "((0, 1, 2, 3), ('python', 'HOPE'))\n"
     ]
    }
   ],
   "source": [
    "tuple1 = (0,1,2,3)\n",
    "tuple2 = ('python','HOPE')\n",
    "tuple3 = (tuple1, tuple2)\n",
    "print(tuple1 + tuple2)\n",
    "print(tuple3)"
   ]
  },
  {
   "cell_type": "code",
   "execution_count": 19,
   "id": "f3dd0aae-b91c-4e67-8e35-d42544466522",
   "metadata": {},
   "outputs": [
    {
     "name": "stdout",
     "output_type": "stream",
     "text": [
      "(20, 10, 16, 19, 25, 1, 276, 188)\n",
      "19 is an odd\n",
      "25 is an odd\n",
      "1 is an odd\n"
     ]
    }
   ],
   "source": [
    "list1 = [20,10,16,19,25,1,276,188]\n",
    "print(tuple(list1))\n",
    "for num in list1:\n",
    "    if(num % 2 != 0):\n",
    "        print(f\"{num} is an odd\")"
   ]
  },
  {
   "cell_type": "code",
   "execution_count": 21,
   "id": "13f21aa1-b225-409b-8935-f9f91006851b",
   "metadata": {},
   "outputs": [
    {
     "name": "stdout",
     "output_type": "stream",
     "text": [
      "(20, 10, 16, 19, 25, 1, 276, 188)\n",
      "20 is even\n",
      "10 is even\n",
      "16 is even\n",
      "276 is even\n",
      "188 is even\n"
     ]
    }
   ],
   "source": [
    "print(tuple(list1))\n",
    "for num in list1:\n",
    "    if(num % 2 == 0):\n",
    "        print(f\"{num} is even\")"
   ]
  },
  {
   "cell_type": "code",
   "execution_count": null,
   "id": "73bee517-0b8b-4051-b8a1-76ab9a38127c",
   "metadata": {},
   "outputs": [],
   "source": []
  }
 ],
 "metadata": {
  "kernelspec": {
   "display_name": "Python 3 (ipykernel)",
   "language": "python",
   "name": "python3"
  },
  "language_info": {
   "codemirror_mode": {
    "name": "ipython",
    "version": 3
   },
   "file_extension": ".py",
   "mimetype": "text/x-python",
   "name": "python",
   "nbconvert_exporter": "python",
   "pygments_lexer": "ipython3",
   "version": "3.13.5"
  }
 },
 "nbformat": 4,
 "nbformat_minor": 5
}
