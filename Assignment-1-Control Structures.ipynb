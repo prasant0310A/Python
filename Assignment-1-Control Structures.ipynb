{
 "cells": [
  {
   "cell_type": "code",
   "execution_count": 19,
   "id": "4f49c394-b88f-4e84-b067-fbb542ffbff5",
   "metadata": {},
   "outputs": [
    {
     "name": "stdout",
     "output_type": "stream",
     "text": [
      "Welcome to Assignment-1\n"
     ]
    }
   ],
   "source": [
    "print(\"Welcome to Assignment-1\")"
   ]
  },
  {
   "cell_type": "code",
   "execution_count": 20,
   "id": "1974b3e0-9c72-4b89-b367-9d301db8de13",
   "metadata": {},
   "outputs": [],
   "source": [
    "Num1 = 10\n",
    "Num2 = 30"
   ]
  },
  {
   "cell_type": "code",
   "execution_count": 21,
   "id": "0c0c6fbe-3646-40dc-b829-17c6bd700e7b",
   "metadata": {},
   "outputs": [
    {
     "name": "stdout",
     "output_type": "stream",
     "text": [
      "Num1= 10\n",
      "Num2= 30\n",
      "Add= 40\n"
     ]
    }
   ],
   "source": [
    "print(\"Num1=\",Num1)\n",
    "print(\"Num2=\",Num2)\n",
    "print(\"Add=\",Num1+Num2)"
   ]
  },
  {
   "cell_type": "markdown",
   "id": "1f08bc48-7a83-4e76-be39-8278ad6fce24",
   "metadata": {},
   "source": [
    "#Body Mass index"
   ]
  },
  {
   "cell_type": "code",
   "execution_count": 22,
   "id": "a923d547-3709-41df-a064-9ff30b689625",
   "metadata": {},
   "outputs": [
    {
     "name": "stdin",
     "output_type": "stream",
     "text": [
      "Enter the BMI Index: 34\n"
     ]
    },
    {
     "name": "stdout",
     "output_type": "stream",
     "text": [
      "Obesity\n"
     ]
    }
   ],
   "source": [
    "BMI = float(input(\"Enter the BMI Index:\"))\n",
    "\n",
    "if(BMI< 18.5):\n",
    "    print(\"Underweight\")\n",
    "elif(BMI < 25.9):\n",
    "    print(\"Healthy Weight\")\n",
    "elif(BMI < 29.9):\n",
    "    print(\"Overweight\")\n",
    "elif(BMI < 40):\n",
    "    print(\"Obesity\")\n",
    "else:\n",
    "    print(\"Severe Obesity\")"
   ]
  },
  {
   "cell_type": "code",
   "execution_count": null,
   "id": "f95170bb-9c9d-4c46-8b55-548a7201b0d3",
   "metadata": {},
   "outputs": [],
   "source": []
  }
 ],
 "metadata": {
  "kernelspec": {
   "display_name": "Python 3 (ipykernel)",
   "language": "python",
   "name": "python3"
  },
  "language_info": {
   "codemirror_mode": {
    "name": "ipython",
    "version": 3
   },
   "file_extension": ".py",
   "mimetype": "text/x-python",
   "name": "python",
   "nbconvert_exporter": "python",
   "pygments_lexer": "ipython3",
   "version": "3.13.5"
  }
 },
 "nbformat": 4,
 "nbformat_minor": 5
}
